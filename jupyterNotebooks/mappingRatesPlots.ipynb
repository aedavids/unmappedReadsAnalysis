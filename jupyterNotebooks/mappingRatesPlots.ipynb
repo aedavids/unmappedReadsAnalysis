{
 "cells": [
  {
   "cell_type": "markdown",
   "metadata": {},
   "source": [
    "# Plot mapping rates between gencode.32.v.1.index and gen.32.ucsc.rmsk.index  other"
   ]
  },
  {
   "cell_type": "code",
   "execution_count": 1,
   "metadata": {},
   "outputs": [],
   "source": [
    "from   bme263DataVis.utilities import MatPlotLibUtilities\n",
    "# import argparse\n",
    "#import matplotlib\n",
    "# matplotlib.use(\"TkAgg\")\n",
    "import matplotlib.pyplot as plt\n",
    "# import matplotlib.patches as mplpatches\n",
    "# import numpy as np\n",
    "# import sys\n",
    "#lt.style.use('BME163')\n",
    "import pandas as pd\n",
    "from pathlib import Path\n",
    "# pd.set_option('display.max_colwidth', -1)"
   ]
  },
  {
   "cell_type": "code",
   "execution_count": 2,
   "metadata": {},
   "outputs": [],
   "source": [
    "mplu = MatPlotLibUtilities()\n",
    "mplu.loadStyle() # load our custom matplotlib style settings\n",
    "\n",
    "dataDir = Path(\"../data\")\n",
    "dataFile = \"salmonLogMetaData.tsv\"\n",
    "dataPath = dataDir.joinpath(dataFile)\n",
    "assert dataPath.exists()\n",
    "\n",
    "imgOutputDir = Path(\"./img\")\n",
    "imgOutputDir.mkdir(exist_ok=True)"
   ]
  },
  {
   "cell_type": "markdown",
   "metadata": {},
   "source": [
    "# load data, clean, and select data"
   ]
  },
  {
   "cell_type": "code",
   "execution_count": 3,
   "metadata": {},
   "outputs": [
    {
     "data": {
      "text/html": [
       "<div>\n",
       "<style scoped>\n",
       "    .dataframe tbody tr th:only-of-type {\n",
       "        vertical-align: middle;\n",
       "    }\n",
       "\n",
       "    .dataframe tbody tr th {\n",
       "        vertical-align: top;\n",
       "    }\n",
       "\n",
       "    .dataframe thead th {\n",
       "        text-align: right;\n",
       "    }\n",
       "</style>\n",
       "<table border=\"1\" class=\"dataframe\">\n",
       "  <thead>\n",
       "    <tr style=\"text-align: right;\">\n",
       "      <th></th>\n",
       "      <th>sampleName</th>\n",
       "      <th>mappingRate</th>\n",
       "      <th>salmonOut</th>\n",
       "      <th>mapped</th>\n",
       "      <th>unmapped</th>\n",
       "      <th>d</th>\n",
       "      <th>u</th>\n",
       "      <th>m1</th>\n",
       "      <th>m2</th>\n",
       "      <th>m12</th>\n",
       "      <th>index</th>\n",
       "      <th>mate1</th>\n",
       "      <th>mate2</th>\n",
       "    </tr>\n",
       "  </thead>\n",
       "  <tbody>\n",
       "    <tr>\n",
       "      <th>0</th>\n",
       "      <td>kras.ipsc/data/bulk.data/day.5/ctrl.1</td>\n",
       "      <td>91.6316</td>\n",
       "      <td>locus.te.combined.salmon.out</td>\n",
       "      <td>Na</td>\n",
       "      <td>Na</td>\n",
       "      <td>Na</td>\n",
       "      <td>Na</td>\n",
       "      <td>Na</td>\n",
       "      <td>Na</td>\n",
       "      <td>Na</td>\n",
       "      <td>/public/groups/kimlab/indexes/gen.32.ucsc.rmsk...</td>\n",
       "      <td>output_forward_paired.fq.gz</td>\n",
       "      <td>output_reverse_paired.fq.gz</td>\n",
       "    </tr>\n",
       "    <tr>\n",
       "      <th>1</th>\n",
       "      <td>kras.ipsc/data/bulk.data/day.5/ctrl.1</td>\n",
       "      <td>91.6315</td>\n",
       "      <td>gencode.te.locus.salmon.out</td>\n",
       "      <td>Na</td>\n",
       "      <td>Na</td>\n",
       "      <td>Na</td>\n",
       "      <td>Na</td>\n",
       "      <td>Na</td>\n",
       "      <td>Na</td>\n",
       "      <td>Na</td>\n",
       "      <td>/public/groups/kimlab/indexes/gen.32.ucsc.rmsk...</td>\n",
       "      <td>output_forward_paired.fq.gz</td>\n",
       "      <td>output_reverse_paired.fq.gz</td>\n",
       "    </tr>\n",
       "    <tr>\n",
       "      <th>2</th>\n",
       "      <td>kras.ipsc/data/bulk.data/day.5/ctrl.1</td>\n",
       "      <td>90.1188</td>\n",
       "      <td>gencode.v35.ucsc.rmsk.salmon.v1.3.0.sidx</td>\n",
       "      <td>26301125</td>\n",
       "      <td>2452342</td>\n",
       "      <td>1016976</td>\n",
       "      <td>1307960</td>\n",
       "      <td>78421</td>\n",
       "      <td>48985</td>\n",
       "      <td>0</td>\n",
       "      <td>/scratch/aedavids/sel.align.gencode.v35.ucsc.r...</td>\n",
       "      <td>/private/groups/kimlab/kras.ipsc/data/bulk.dat...</td>\n",
       "      <td>/private/groups/kimlab/kras.ipsc/data/bulk.dat...</td>\n",
       "    </tr>\n",
       "    <tr>\n",
       "      <th>3</th>\n",
       "      <td>kras.ipsc/data/bulk.data/day.5/ctrl.1</td>\n",
       "      <td>89.2505</td>\n",
       "      <td>gencode.salmon.out</td>\n",
       "      <td>Na</td>\n",
       "      <td>Na</td>\n",
       "      <td>Na</td>\n",
       "      <td>Na</td>\n",
       "      <td>Na</td>\n",
       "      <td>Na</td>\n",
       "      <td>Na</td>\n",
       "      <td>/public/groups/kimlab/indexes/gencode.32.v.1.i...</td>\n",
       "      <td>output_forward_paired.fq.gz</td>\n",
       "      <td>output_reverse_paired.fq.gz</td>\n",
       "    </tr>\n",
       "    <tr>\n",
       "      <th>4</th>\n",
       "      <td>kras.ipsc/data/bulk.data/day.5/ctrl.2</td>\n",
       "      <td>93.5036</td>\n",
       "      <td>gencode.te.locus.salmon.out</td>\n",
       "      <td>Na</td>\n",
       "      <td>Na</td>\n",
       "      <td>Na</td>\n",
       "      <td>Na</td>\n",
       "      <td>Na</td>\n",
       "      <td>Na</td>\n",
       "      <td>Na</td>\n",
       "      <td>/public/groups/kimlab/indexes/gen.32.ucsc.rmsk...</td>\n",
       "      <td>output_forward_paired.fq.gz</td>\n",
       "      <td>output_reverse_paired.fq.gz</td>\n",
       "    </tr>\n",
       "  </tbody>\n",
       "</table>\n",
       "</div>"
      ],
      "text/plain": [
       "                              sampleName  mappingRate  \\\n",
       "0  kras.ipsc/data/bulk.data/day.5/ctrl.1      91.6316   \n",
       "1  kras.ipsc/data/bulk.data/day.5/ctrl.1      91.6315   \n",
       "2  kras.ipsc/data/bulk.data/day.5/ctrl.1      90.1188   \n",
       "3  kras.ipsc/data/bulk.data/day.5/ctrl.1      89.2505   \n",
       "4  kras.ipsc/data/bulk.data/day.5/ctrl.2      93.5036   \n",
       "\n",
       "                                  salmonOut    mapped unmapped        d  \\\n",
       "0              locus.te.combined.salmon.out        Na       Na       Na   \n",
       "1               gencode.te.locus.salmon.out        Na       Na       Na   \n",
       "2  gencode.v35.ucsc.rmsk.salmon.v1.3.0.sidx  26301125  2452342  1016976   \n",
       "3                        gencode.salmon.out        Na       Na       Na   \n",
       "4               gencode.te.locus.salmon.out        Na       Na       Na   \n",
       "\n",
       "         u     m1     m2 m12  \\\n",
       "0       Na     Na     Na  Na   \n",
       "1       Na     Na     Na  Na   \n",
       "2  1307960  78421  48985   0   \n",
       "3       Na     Na     Na  Na   \n",
       "4       Na     Na     Na  Na   \n",
       "\n",
       "                                               index  \\\n",
       "0  /public/groups/kimlab/indexes/gen.32.ucsc.rmsk...   \n",
       "1  /public/groups/kimlab/indexes/gen.32.ucsc.rmsk...   \n",
       "2  /scratch/aedavids/sel.align.gencode.v35.ucsc.r...   \n",
       "3  /public/groups/kimlab/indexes/gencode.32.v.1.i...   \n",
       "4  /public/groups/kimlab/indexes/gen.32.ucsc.rmsk...   \n",
       "\n",
       "                                               mate1  \\\n",
       "0                        output_forward_paired.fq.gz   \n",
       "1                        output_forward_paired.fq.gz   \n",
       "2  /private/groups/kimlab/kras.ipsc/data/bulk.dat...   \n",
       "3                        output_forward_paired.fq.gz   \n",
       "4                        output_forward_paired.fq.gz   \n",
       "\n",
       "                                               mate2  \n",
       "0                        output_reverse_paired.fq.gz  \n",
       "1                        output_reverse_paired.fq.gz  \n",
       "2  /private/groups/kimlab/kras.ipsc/data/bulk.dat...  \n",
       "3                        output_reverse_paired.fq.gz  \n",
       "4                        output_reverse_paired.fq.gz  "
      ]
     },
     "execution_count": 3,
     "metadata": {},
     "output_type": "execute_result"
    }
   ],
   "source": [
    "mappingRateDF = pd.read_csv(dataPath, sep=\"\\t\", header=1)\n",
    "mappingRateDF.head()"
   ]
  },
  {
   "cell_type": "code",
   "execution_count": 4,
   "metadata": {},
   "outputs": [
    {
     "name": "stderr",
     "output_type": "stream",
     "text": [
      "/Users/andrewdavidson/anaconda3/envs/extraCellularRNA/lib/python3.7/site-packages/ipykernel_launcher.py:1: FutureWarning: The default value of regex will change from True to False in a future version.\n",
      "  \"\"\"Entry point for launching an IPython kernel.\n"
     ]
    }
   ],
   "source": [
    "mappingRateDF[\"sampleName\"] = mappingRateDF[\"sampleName\"].str.replace(r'kras.ipsc/data/', '')\n",
    "# print( mappingRateDF[\"sampleName\"].head() )\n",
    "# print( mappingRateDF[\"sampleName\"].tail() )"
   ]
  },
  {
   "cell_type": "code",
   "execution_count": 5,
   "metadata": {},
   "outputs": [
    {
     "name": "stderr",
     "output_type": "stream",
     "text": [
      "/Users/andrewdavidson/anaconda3/envs/extraCellularRNA/lib/python3.7/site-packages/ipykernel_launcher.py:1: FutureWarning: The default value of regex will change from True to False in a future version.\n",
      "  \"\"\"Entry point for launching an IPython kernel.\n"
     ]
    }
   ],
   "source": [
    "mappingRateDF[\"sampleName\"] = mappingRateDF[\"sampleName\"].str.replace(r'.data', '')\n",
    "# print( mappingRateDF[\"sampleName\"].head() )\n",
    "# print( mappingRateDF[\"sampleName\"].tail() )"
   ]
  },
  {
   "cell_type": "code",
   "execution_count": 6,
   "metadata": {},
   "outputs": [
    {
     "name": "stderr",
     "output_type": "stream",
     "text": [
      "/Users/andrewdavidson/anaconda3/envs/extraCellularRNA/lib/python3.7/site-packages/ipykernel_launcher.py:1: FutureWarning: The default value of regex will change from True to False in a future version.\n",
      "  \"\"\"Entry point for launching an IPython kernel.\n"
     ]
    }
   ],
   "source": [
    "mappingRateDF[\"sampleName\"] = mappingRateDF[\"sampleName\"].str.replace(r'gen1c.', '')\n",
    "# print( mappingRateDF[\"sampleName\"].head() )\n",
    "# print( mappingRateDF[\"sampleName\"].tail() )"
   ]
  },
  {
   "cell_type": "code",
   "execution_count": 7,
   "metadata": {},
   "outputs": [
    {
     "name": "stderr",
     "output_type": "stream",
     "text": [
      "/Users/andrewdavidson/anaconda3/envs/extraCellularRNA/lib/python3.7/site-packages/ipykernel_launcher.py:1: FutureWarning: The default value of regex will change from True to False in a future version.\n",
      "  \"\"\"Entry point for launching an IPython kernel.\n"
     ]
    }
   ],
   "source": [
    "mappingRateDF[\"sampleName\"] = mappingRateDF[\"sampleName\"].str.replace(r'.exo.input', '')\n",
    "# print( mappingRateDF[\"sampleName\"].head() )\n",
    "# print( mappingRateDF[\"sampleName\"].tail() )"
   ]
  },
  {
   "cell_type": "code",
   "execution_count": null,
   "metadata": {},
   "outputs": [],
   "source": []
  },
  {
   "cell_type": "code",
   "execution_count": 8,
   "metadata": {},
   "outputs": [
    {
     "name": "stdout",
     "output_type": "stream",
     "text": [
      "gencode.v35.ucsc.rmsk.salmon.v1.3.0.sidx|gencode.te.locus.salmon.out\n"
     ]
    }
   ],
   "source": [
    "s1 = 'gencode.v35.ucsc.rmsk.salmon.v1.3.0.sidx'\n",
    "s2 = \"gencode.te.locus.salmon.out\"\n",
    "regex = s1 + \"|\" + s2\n",
    "print( regex )\n",
    "selectRows = mappingRateDF.loc[:, \"salmonOut\"].str.contains(regex, regex=True)"
   ]
  },
  {
   "cell_type": "code",
   "execution_count": 9,
   "metadata": {},
   "outputs": [],
   "source": [
    "boxData1 = mappingRateDF.loc[selectRows,:]\n",
    "# boxData1.head()"
   ]
  },
  {
   "cell_type": "code",
   "execution_count": 10,
   "metadata": {},
   "outputs": [],
   "source": [
    "# boxData1.tail()"
   ]
  },
  {
   "cell_type": "code",
   "execution_count": 11,
   "metadata": {},
   "outputs": [
    {
     "name": "stderr",
     "output_type": "stream",
     "text": [
      "/Users/andrewdavidson/anaconda3/envs/extraCellularRNA/lib/python3.7/site-packages/ipykernel_launcher.py:2: FutureWarning: The default value of regex will change from True to False in a future version.\n",
      "  \n",
      "/Users/andrewdavidson/anaconda3/envs/extraCellularRNA/lib/python3.7/site-packages/ipykernel_launcher.py:2: SettingWithCopyWarning: \n",
      "A value is trying to be set on a copy of a slice from a DataFrame.\n",
      "Try using .loc[row_indexer,col_indexer] = value instead\n",
      "\n",
      "See the caveats in the documentation: https://pandas.pydata.org/pandas-docs/stable/user_guide/indexing.html#returning-a-view-versus-a-copy\n",
      "  \n"
     ]
    }
   ],
   "source": [
    "# strip of the replicant id \n",
    "boxData1['gBySample'] = boxData1[\"sampleName\"].str.replace(r'\\..?$', '')\n",
    "boxData2 = boxData1[[\"gBySample\", \"mappingRate\", \"salmonOut\"]]\n",
    "# boxData2.head()"
   ]
  },
  {
   "cell_type": "code",
   "execution_count": 12,
   "metadata": {},
   "outputs": [],
   "source": [
    "# boxData2.tail()"
   ]
  },
  {
   "cell_type": "code",
   "execution_count": 13,
   "metadata": {},
   "outputs": [],
   "source": [
    "groupedDF = boxData2.groupby([\"gBySample\", \"salmonOut\"])\n",
    "# for key, gDF in groupedDF:\n",
    "#     #gDF = groupedDF.get_group(key)\n",
    "#     #print( type(item))\n",
    "#     print(\"\\n*********\")    \n",
    "#     print(key)\n",
    "#     print(gDF.loc[:, [ \"gBySample\", \"mappingRate\", \"salmonOut\" ]])\n"
   ]
  },
  {
   "cell_type": "markdown",
   "metadata": {},
   "source": [
    "## plot\n",
    "[box plot](https://matplotlib.org/stable/api/_as_gen/matplotlib.pyplot.boxplot.html)\n",
    "\n",
    "[box plot demo](https://matplotlib.org/stable/gallery/pyplots/boxplot_demo_pyplot.html)"
   ]
  },
  {
   "cell_type": "code",
   "execution_count": 14,
   "metadata": {},
   "outputs": [],
   "source": [
    "def createPanel():\n",
    "    figureWidthInInches = 8\n",
    "    figureHeightInInches = 3\n",
    "    fig = plt.figure(figsize=(figureWidthInInches,figureHeightInInches))\n",
    "    panel = mplu.createPanelSameSizeAsFig(fig)\n",
    "    return panel\n",
    "\n",
    "def createFigureAndPanel(widthInInches=8, heightInInches=3):\n",
    "    '''\n",
    "    makes it possible to write model evaluation function that genertes\n",
    "    multiple images with out having to save images to disk\n",
    "    '''\n",
    "    fig = plt.figure(figsize=(widthInInches, heightInInches))\n",
    "    panel = mplu.createPanelSameSizeAsFig(fig)\n",
    "    return (fig, panel)"
   ]
  },
  {
   "cell_type": "code",
   "execution_count": 15,
   "metadata": {},
   "outputs": [],
   "source": [
    "keys = []\n",
    "data = []\n",
    "for key, gDF in groupedDF:\n",
    "#     keys.append( key )\n",
    "#     data.append( gDF[\"mappingRate\"] )\n",
    "    prependIdx = 0\n",
    "    keys.insert( prependIdx, key )\n",
    "    data.insert( prependIdx, gDF[\"mappingRate\"] )"
   ]
  },
  {
   "cell_type": "code",
   "execution_count": 16,
   "metadata": {
    "scrolled": false
   },
   "outputs": [
    {
     "data": {
      "image/png": "[encoded data removed]",
      "text/plain": [
       "<Figure size 576x576 with 1 Axes>"
      ]
     },
     "metadata": {
      "needs_background": "light"
     },
     "output_type": "display_data"
    }
   ],
   "source": [
    "fig, panel = createFigureAndPanel(heightInInches = 8)\n",
    "panel.boxplot(data, vert=False)\n",
    "panel.set_yticklabels( keys )\n",
    "for i in range(len(keys)):\n",
    "    y = i + 1\n",
    "    df = data[i]\n",
    "    for x in df:\n",
    "        #print(\"x:{} y:{}\".format(x,y))\n",
    "        panel.plot(x, y, linewidth=0, marker='o', alpha=1,\n",
    "                   markersize=5, markeredgewidth=0, markerfacecolor='black')\n",
    "    \n",
    "panel.set_xlabel(\"mapping rate\", fontsize=12 )\n",
    "panel.tick_params(axis='x', labelsize=12)\n",
    "panel.tick_params(axis='y', labelsize=12)\n",
    "\n",
    "panel.set_title(\"Maping Rate Distributions\")\n",
    "\n",
    "# str=\"lower mapping rate between different references \\n\"\\\n",
    "#     + \"is not explained by either salmon version \\n\"\\\n",
    "#     + \"or --validateMapping\"\n",
    "\n",
    "str = \"gencode.v35 lower mapping rate is not explained by --validateMapping \\n\"\\\n",
    "    + \"Maybe explained by improved decoy filtering in Salmon v1.3.0 \"\n",
    "props = dict(boxstyle='round', facecolor=\"white\", alpha=0.5)\n",
    "panel.text( 66, 11, str, fontsize=12, \n",
    "           horizontalalignment='left', verticalalignment='center',\n",
    "           bbox=props, color=\"red\" )\n",
    "\n",
    "str=\"why does exo have lower mapping rates and more variation in rates?\"\n",
    "panel.text( 66, 10, str, fontsize=12, \n",
    "           horizontalalignment='left', verticalalignment='center',\n",
    "           bbox=props, color=\"red\" )\n",
    "\n",
    "outfile=\"img/mappingRateDistributions.png\"\n",
    "fig.savefig(outfile, dpi=300, bbox_inches='tight')  # BME163 style sheet should set dpi=600"
   ]
  }
 ],
 "metadata": {
  "kernelspec": {
   "display_name": "Python 3",
   "language": "python",
   "name": "python3"
  },
  "language_info": {
   "codemirror_mode": {
    "name": "ipython",
    "version": 3
   },
   "file_extension": ".py",
   "mimetype": "text/x-python",
   "name": "python",
   "nbconvert_exporter": "python",
   "pygments_lexer": "ipython3",
   "version": "3.7.6"
  }
 },
 "nbformat": 4,
 "nbformat_minor": 4
}
