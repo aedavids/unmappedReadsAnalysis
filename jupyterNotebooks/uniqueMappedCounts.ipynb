{
 "cells": [
  {
   "cell_type": "markdown",
   "id": "furnished-retention",
   "metadata": {},
   "source": [
    "# find unique counts\n",
    "- aedavids@ucsc.edu\n",
    "- 6/3/21\n",
    "\n",
    "We can not use the salmon quant.sf files directly. The gencode.v35.ucsc.rmsk.salmon.v1.3.0.sid was created using 2 fasta files. The first contains the genecode reads. The names embed meta data about transcript id, gene id, and bio type. The second fasta file contains reads from the ucsc repeat masks. i.e. the TE's. The name is long string encoding position information.\n",
    "\n",
    "to work around this problem see extraCellularRNA/R/notebooks/kras.ipsc.DESeq.normalize.v2.Rmd. It creates normalized count files. The counts estimated and are real number not integers. If a gene is not expressed it value will be zero\n",
    "\n",
    "## quality control\n",
    "Notice all the day seven sample have more genes. This is expected the cells are differentiating"
   ]
  },
  {
   "cell_type": "code",
   "execution_count": 1,
   "id": "continuous-distinction",
   "metadata": {},
   "outputs": [],
   "source": [
    "import numpy as np\n",
    "import pandas as pd\n",
    "import pathlib as pl"
   ]
  },
  {
   "cell_type": "code",
   "execution_count": 2,
   "id": "monetary-linux",
   "metadata": {},
   "outputs": [],
   "source": [
    "# output from extraCellularRNA/R/notebooks/kras.ipsc.DESeq.normalize.v2.Rmd\n",
    "dataRoot = '/private/home/aedavids/extraCellularRNA/data/R/output/normalizedCounts.gencode.v35.ucsc.rmsk.tx.to.gene.csv'"
   ]
  },
  {
   "cell_type": "code",
   "execution_count": 3,
   "id": "whole-explosion",
   "metadata": {},
   "outputs": [
    {
     "name": "stdout",
     "output_type": "stream",
     "text": [
      "kras.ipsc.day.5.DESeq.normalize.v2.gene.counts.csv\r\n",
      "kras.ipsc.day.5.DESeq.normalize.v2.gene.sampleType_exo_vs_bulk.lfcShrink.csv\r\n",
      "kras.ipsc.day.5.DESeq.normalize.v2.gene.sampleType_exo_vs_bulk.lfcShrink.meta.csv\r\n",
      "kras.ipsc.day.5.DESeq.normalize.v2.gene.sampleType_exo_vs_bulk.unShrunk.csv\r\n",
      "kras.ipsc.day.5.DESeq.normalize.v2.gene.sampleType_exo_vs_bulk.unShrunk.meta.csv\r\n",
      "kras.ipsc.day.7.DESeq.normalize.v2.gene.counts.csv\r\n",
      "kras.ipsc.day.7.DESeq.normalize.v2.gene.treatment_kras_vs_ctrl.lfcShrink.csv\r\n",
      "kras.ipsc.day.7.DESeq.normalize.v2.gene.treatment_kras_vs_ctrl.lfcShrink.meta.csv\r\n",
      "kras.ipsc.day.7.DESeq.normalize.v2.gene.treatment_kras_vs_ctrl.unShrunk.csv\r\n",
      "kras.ipsc.day.7.DESeq.normalize.v2.gene.treatment_kras_vs_ctrl.unShrunk.meta.csv\r\n",
      "pancreas.plasma.ev.long.RNA.normalized.deseq.biotype.counts.csv\r\n",
      "pancreas.plasma.ev.long.RNA.normalized.deseq.gene.counts.csv\r\n",
      "pancreas.plasma.ev.long.RNA.normalized.deseq.gene.counts.csv.bug\r\n",
      "pancreas.plasma.ev.long.RNA.normalized.deseq.tx.counts.csv\r\n"
     ]
    }
   ],
   "source": [
    "!ls -1 $dataRoot"
   ]
  },
  {
   "cell_type": "markdown",
   "id": "correct-yemen",
   "metadata": {},
   "source": [
    "## load and clean data"
   ]
  },
  {
   "cell_type": "code",
   "execution_count": 4,
   "id": "premier-snapshot",
   "metadata": {},
   "outputs": [],
   "source": [
    "day5CountFile = pl.Path(dataRoot).joinpath('kras.ipsc.day.5.DESeq.normalize.v2.gene.counts.csv')\n",
    "day7CountFile = pl.Path(dataRoot).joinpath('kras.ipsc.day.7.DESeq.normalize.v2.gene.counts.csv')\n",
    "day5OutputFile = pl.Path(\"~/unmappedReadsAnalysis/data/numberOfUniqueGenesDay5SalmonMappedReads.tsv\")\n",
    "day7OutputFile = pl.Path(\"~/unmappedReadsAnalysis/data/numberOfUniqueGenesDay7SalmonMappedReads.tsv\")"
   ]
  },
  {
   "cell_type": "code",
   "execution_count": 5,
   "id": "moved-lewis",
   "metadata": {},
   "outputs": [],
   "source": [
    "def countUniqueGenes( countFilePath ):\n",
    "    '''\n",
    "    countFilePath\n",
    "        csv file\n",
    "        \n",
    "    returns (sampleNamesList, countsList)\n",
    "    '''\n",
    "    # load and clean data\n",
    "    df  = pd.read_csv(countFilePath)\n",
    "    df.rename(columns={'Unnamed: 0': 'gene'}, inplace=True)\n",
    "    \n",
    "    # count, skip the gene column\n",
    "    sampleNamesList = df.columns[1:].to_list()\n",
    "    colAxis = 0\n",
    "    countsList =  np.count_nonzero(df.loc[:, sampleNamesList ], axis=colAxis)\n",
    "    \n",
    "    return(sampleNamesList, countsList)\n",
    "    "
   ]
  },
  {
   "cell_type": "code",
   "execution_count": 6,
   "id": "handy-drive",
   "metadata": {},
   "outputs": [
    {
     "name": "stdout",
     "output_type": "stream",
     "text": [
      "['b_5_c_1', 'b_5_c_2', 'b_5_c_3', 'e_5_c_1', 'e_5_c_2', 'e_5_c_3', 'b_5_k_1', 'b_5_k_2', 'b_5_k_3', 'e_5_k_1', 'e_5_k_2', 'e_5_k_3']\n",
      "[19813 19829 19825 13533 13797 13722 19820 19723 19752 16113 14336 14176]\n"
     ]
    }
   ],
   "source": [
    "sampleList5, countList5  = countUniqueGenes( day5CountFile )\n",
    "print(sampleList5)\n",
    "print(countList5)"
   ]
  },
  {
   "cell_type": "code",
   "execution_count": 7,
   "id": "consolidated-kidney",
   "metadata": {},
   "outputs": [
    {
     "name": "stdout",
     "output_type": "stream",
     "text": [
      "['b_7_c_1', 'b_7_c_2', 'b_7_c_3', 'b_7_k_1', 'b_7_k_2', 'b_7_k_3']\n",
      "[21152 21124 20933 20826 20854 21131]\n"
     ]
    }
   ],
   "source": [
    "sampleList7, countList7  = countUniqueGenes( day7CountFile )\n",
    "print(sampleList7)\n",
    "print(countList7)"
   ]
  },
  {
   "cell_type": "code",
   "execution_count": 8,
   "id": "academic-union",
   "metadata": {},
   "outputs": [],
   "source": [
    "def convertToDF( sampleNamesList, countsList ):\n",
    "    '''\n",
    "    makes it easy to write as csv file\n",
    "    \n",
    "    returns a dataframe\n",
    "    '''\n",
    "    dataDict = dict()\n",
    "    for i in range(len(countsList)):\n",
    "        dataDict[ sampleNamesList[i] ] = [countsList[i]]\n",
    "    \n",
    "    #print(dataDict)\n",
    "    df =  pd.DataFrame( dataDict )\n",
    "    return (df)"
   ]
  },
  {
   "cell_type": "code",
   "execution_count": 9,
   "id": "dynamic-russian",
   "metadata": {},
   "outputs": [
    {
     "data": {
      "text/html": [
       "<div>\n",
       "<style scoped>\n",
       "    .dataframe tbody tr th:only-of-type {\n",
       "        vertical-align: middle;\n",
       "    }\n",
       "\n",
       "    .dataframe tbody tr th {\n",
       "        vertical-align: top;\n",
       "    }\n",
       "\n",
       "    .dataframe thead th {\n",
       "        text-align: right;\n",
       "    }\n",
       "</style>\n",
       "<table border=\"1\" class=\"dataframe\">\n",
       "  <thead>\n",
       "    <tr style=\"text-align: right;\">\n",
       "      <th></th>\n",
       "      <th>b_5_c_1</th>\n",
       "      <th>b_5_c_2</th>\n",
       "      <th>b_5_c_3</th>\n",
       "      <th>e_5_c_1</th>\n",
       "      <th>e_5_c_2</th>\n",
       "      <th>e_5_c_3</th>\n",
       "      <th>b_5_k_1</th>\n",
       "      <th>b_5_k_2</th>\n",
       "      <th>b_5_k_3</th>\n",
       "      <th>e_5_k_1</th>\n",
       "      <th>e_5_k_2</th>\n",
       "      <th>e_5_k_3</th>\n",
       "    </tr>\n",
       "  </thead>\n",
       "  <tbody>\n",
       "    <tr>\n",
       "      <th>0</th>\n",
       "      <td>19813</td>\n",
       "      <td>19829</td>\n",
       "      <td>19825</td>\n",
       "      <td>13533</td>\n",
       "      <td>13797</td>\n",
       "      <td>13722</td>\n",
       "      <td>19820</td>\n",
       "      <td>19723</td>\n",
       "      <td>19752</td>\n",
       "      <td>16113</td>\n",
       "      <td>14336</td>\n",
       "      <td>14176</td>\n",
       "    </tr>\n",
       "  </tbody>\n",
       "</table>\n",
       "</div>"
      ],
      "text/plain": [
       "   b_5_c_1  b_5_c_2  b_5_c_3  e_5_c_1  e_5_c_2  e_5_c_3  b_5_k_1  b_5_k_2  \\\n",
       "0    19813    19829    19825    13533    13797    13722    19820    19723   \n",
       "\n",
       "   b_5_k_3  e_5_k_1  e_5_k_2  e_5_k_3  \n",
       "0    19752    16113    14336    14176  "
      ]
     },
     "execution_count": 9,
     "metadata": {},
     "output_type": "execute_result"
    }
   ],
   "source": [
    "day5DF = convertToDF( sampleList5, countList5 )\n",
    "day5DF"
   ]
  },
  {
   "cell_type": "code",
   "execution_count": 10,
   "id": "neither-dominican",
   "metadata": {},
   "outputs": [
    {
     "data": {
      "text/html": [
       "<div>\n",
       "<style scoped>\n",
       "    .dataframe tbody tr th:only-of-type {\n",
       "        vertical-align: middle;\n",
       "    }\n",
       "\n",
       "    .dataframe tbody tr th {\n",
       "        vertical-align: top;\n",
       "    }\n",
       "\n",
       "    .dataframe thead th {\n",
       "        text-align: right;\n",
       "    }\n",
       "</style>\n",
       "<table border=\"1\" class=\"dataframe\">\n",
       "  <thead>\n",
       "    <tr style=\"text-align: right;\">\n",
       "      <th></th>\n",
       "      <th>b_7_c_1</th>\n",
       "      <th>b_7_c_2</th>\n",
       "      <th>b_7_c_3</th>\n",
       "      <th>b_7_k_1</th>\n",
       "      <th>b_7_k_2</th>\n",
       "      <th>b_7_k_3</th>\n",
       "    </tr>\n",
       "  </thead>\n",
       "  <tbody>\n",
       "    <tr>\n",
       "      <th>0</th>\n",
       "      <td>21152</td>\n",
       "      <td>21124</td>\n",
       "      <td>20933</td>\n",
       "      <td>20826</td>\n",
       "      <td>20854</td>\n",
       "      <td>21131</td>\n",
       "    </tr>\n",
       "  </tbody>\n",
       "</table>\n",
       "</div>"
      ],
      "text/plain": [
       "   b_7_c_1  b_7_c_2  b_7_c_3  b_7_k_1  b_7_k_2  b_7_k_3\n",
       "0    21152    21124    20933    20826    20854    21131"
      ]
     },
     "execution_count": 10,
     "metadata": {},
     "output_type": "execute_result"
    }
   ],
   "source": [
    "day7DF = convertToDF( sampleList7, countList7 )\n",
    "day7DF"
   ]
  },
  {
   "cell_type": "code",
   "execution_count": 11,
   "id": "thorough-prerequisite",
   "metadata": {},
   "outputs": [],
   "source": [
    "def saveCounts(df, inputFile, outputFile):\n",
    "    tHeader = \"./tmpHeader\"\n",
    "    tBody = \"./tmpBody\"\n",
    "    !echo '#' $inputFile > $tHeader\n",
    "    df.to_csv(tBody, sep=\"\\t\", index=False)\n",
    "    !cat $tHeader $tBody > $outputFile\n",
    "    !rm $tHeader $tBody\n",
    "\n",
    "\n",
    "saveCounts(day5DF, day5CountFile, day5OutputFile)\n",
    "saveCounts(day7DF, day7CountFile, day7OutputFile)"
   ]
  },
  {
   "cell_type": "code",
   "execution_count": 12,
   "id": "elect-better",
   "metadata": {},
   "outputs": [
    {
     "name": "stdout",
     "output_type": "stream",
     "text": [
      "# /private/home/aedavids/extraCellularRNA/data/R/output/normalizedCounts.gencode.v35.ucsc.rmsk.tx.to.gene.csv/kras.ipsc.day.5.DESeq.normalize.v2.gene.counts.csv\r\n",
      "b_5_c_1\tb_5_c_2\tb_5_c_3\te_5_c_1\te_5_c_2\te_5_c_3\tb_5_k_1\tb_5_k_2\tb_5_k_3\te_5_k_1\te_5_k_2\te_5_k_3\r\n",
      "19813\t19829\t19825\t13533\t13797\t13722\t19820\t19723\t19752\t16113\t14336\t14176\r\n"
     ]
    }
   ],
   "source": [
    "# test\n",
    "!cat $day5OutputFile"
   ]
  },
  {
   "cell_type": "code",
   "execution_count": 13,
   "id": "laden-counter",
   "metadata": {},
   "outputs": [
    {
     "name": "stdout",
     "output_type": "stream",
     "text": [
      "# /private/home/aedavids/extraCellularRNA/data/R/output/normalizedCounts.gencode.v35.ucsc.rmsk.tx.to.gene.csv/kras.ipsc.day.7.DESeq.normalize.v2.gene.counts.csv\r\n",
      "b_7_c_1\tb_7_c_2\tb_7_c_3\tb_7_k_1\tb_7_k_2\tb_7_k_3\r\n",
      "21152\t21124\t20933\t20826\t20854\t21131\r\n"
     ]
    }
   ],
   "source": [
    "!cat $day7OutputFile"
   ]
  }
 ],
 "metadata": {
  "kernelspec": {
   "display_name": "Python 3",
   "language": "python",
   "name": "python3"
  },
  "language_info": {
   "codemirror_mode": {
    "name": "ipython",
    "version": 3
   },
   "file_extension": ".py",
   "mimetype": "text/x-python",
   "name": "python",
   "nbconvert_exporter": "python",
   "pygments_lexer": "ipython3",
   "version": "3.7.6"
  }
 },
 "nbformat": 4,
 "nbformat_minor": 5
}
