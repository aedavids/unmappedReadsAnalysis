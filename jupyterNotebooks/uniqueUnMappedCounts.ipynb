{
 "cells": [
  {
   "cell_type": "markdown",
   "id": "tracked-murder",
   "metadata": {},
   "source": [
    "# unmapped unique gene counts\n",
    "\n",
    "Note the of htseqCount.out has the following additional information. TODO: add them to output\n",
    "```\n",
    "ENSG00000288698.1\t0\n",
    "ENSG00000288699.1\t0\n",
    "__no_feature\t1541926\n",
    "__ambiguous\t12650\n",
    "__too_low_aQual\t0\n",
    "__not_aligned\t0\n",
    "__alignment_not_unique\t159190\n",
    "```"
   ]
  },
  {
   "cell_type": "code",
   "execution_count": 1,
   "id": "excessive-museum",
   "metadata": {},
   "outputs": [],
   "source": [
    "import numpy as np\n",
    "import pandas as pd\n",
    "\n",
    "kl = \"/private/groups/kimlab\"\n",
    "krasDir= kl + \"/kras.ipsc/data\"\n",
    "salmonIdx = \"gencode.v35.ucsc.rmsk.salmon.v1.3.0.sidx\""
   ]
  },
  {
   "cell_type": "code",
   "execution_count": 2,
   "id": "accessible-tribute",
   "metadata": {},
   "outputs": [
    {
     "name": "stdout",
     "output_type": "stream",
     "text": [
      "['/private/groups/kimlab/kras.ipsc/data/bulk.data/day.5/ctrl.1/htseqCount.out/STAR.gencode.v35.ucsc.rmsk.salmon.v1.3.0.sidx/unmapped/unmapped/htseqCount.out', '/private/groups/kimlab/kras.ipsc/data/bulk.data/day.5/ctrl.2/htseqCount.out/STAR.gencode.v35.ucsc.rmsk.salmon.v1.3.0.sidx/unmapped/unmapped/htseqCount.out', '/private/groups/kimlab/kras.ipsc/data/bulk.data/day.5/ctrl.3/htseqCount.out/STAR.gencode.v35.ucsc.rmsk.salmon.v1.3.0.sidx/unmapped/unmapped/htseqCount.out']\n"
     ]
    }
   ],
   "source": [
    "findPath= krasDir + \"/{bulk.data,exo.data}\"\n",
    "htSeqCountFiles = !find $findPath -type f -name htseqCount.out | grep $salmonIdx\n",
    "print( htSeqCountFiles[0:3] )\n",
    "\n",
    "assert len(htSeqCountFiles) == 18"
   ]
  },
  {
   "cell_type": "code",
   "execution_count": 3,
   "id": "silent-situation",
   "metadata": {},
   "outputs": [
    {
     "data": {
      "text/html": [
       "<div>\n",
       "<style scoped>\n",
       "    .dataframe tbody tr th:only-of-type {\n",
       "        vertical-align: middle;\n",
       "    }\n",
       "\n",
       "    .dataframe tbody tr th {\n",
       "        vertical-align: top;\n",
       "    }\n",
       "\n",
       "    .dataframe thead th {\n",
       "        text-align: right;\n",
       "    }\n",
       "</style>\n",
       "<table border=\"1\" class=\"dataframe\">\n",
       "  <thead>\n",
       "    <tr style=\"text-align: right;\">\n",
       "      <th></th>\n",
       "      <th>htSeqCountFile</th>\n",
       "    </tr>\n",
       "  </thead>\n",
       "  <tbody>\n",
       "    <tr>\n",
       "      <th>0</th>\n",
       "      <td>/private/groups/kimlab/kras.ipsc/data/bulk.data/day.5/ctrl.1/htseqCount.out/STAR.gencode.v35.ucsc.rmsk.salmon.v1.3.0.sidx/unmapped/unmapped/htseqCount.out</td>\n",
       "    </tr>\n",
       "    <tr>\n",
       "      <th>1</th>\n",
       "      <td>/private/groups/kimlab/kras.ipsc/data/bulk.data/day.5/ctrl.2/htseqCount.out/STAR.gencode.v35.ucsc.rmsk.salmon.v1.3.0.sidx/unmapped/unmapped/htseqCount.out</td>\n",
       "    </tr>\n",
       "    <tr>\n",
       "      <th>2</th>\n",
       "      <td>/private/groups/kimlab/kras.ipsc/data/bulk.data/day.5/ctrl.3/htseqCount.out/STAR.gencode.v35.ucsc.rmsk.salmon.v1.3.0.sidx/unmapped/unmapped/htseqCount.out</td>\n",
       "    </tr>\n",
       "    <tr>\n",
       "      <th>3</th>\n",
       "      <td>/private/groups/kimlab/kras.ipsc/data/bulk.data/day.5/kras.1/htseqCount.out/STAR.gencode.v35.ucsc.rmsk.salmon.v1.3.0.sidx/unmapped/unmapped/htseqCount.out</td>\n",
       "    </tr>\n",
       "    <tr>\n",
       "      <th>4</th>\n",
       "      <td>/private/groups/kimlab/kras.ipsc/data/bulk.data/day.5/kras.2/htseqCount.out/STAR.gencode.v35.ucsc.rmsk.salmon.v1.3.0.sidx/unmapped/unmapped/htseqCount.out</td>\n",
       "    </tr>\n",
       "  </tbody>\n",
       "</table>\n",
       "</div>"
      ],
      "text/plain": [
       "                                                                                                                                               htSeqCountFile\n",
       "0  /private/groups/kimlab/kras.ipsc/data/bulk.data/day.5/ctrl.1/htseqCount.out/STAR.gencode.v35.ucsc.rmsk.salmon.v1.3.0.sidx/unmapped/unmapped/htseqCount.out\n",
       "1  /private/groups/kimlab/kras.ipsc/data/bulk.data/day.5/ctrl.2/htseqCount.out/STAR.gencode.v35.ucsc.rmsk.salmon.v1.3.0.sidx/unmapped/unmapped/htseqCount.out\n",
       "2  /private/groups/kimlab/kras.ipsc/data/bulk.data/day.5/ctrl.3/htseqCount.out/STAR.gencode.v35.ucsc.rmsk.salmon.v1.3.0.sidx/unmapped/unmapped/htseqCount.out\n",
       "3  /private/groups/kimlab/kras.ipsc/data/bulk.data/day.5/kras.1/htseqCount.out/STAR.gencode.v35.ucsc.rmsk.salmon.v1.3.0.sidx/unmapped/unmapped/htseqCount.out\n",
       "4  /private/groups/kimlab/kras.ipsc/data/bulk.data/day.5/kras.2/htseqCount.out/STAR.gencode.v35.ucsc.rmsk.salmon.v1.3.0.sidx/unmapped/unmapped/htseqCount.out"
      ]
     },
     "execution_count": 3,
     "metadata": {},
     "output_type": "execute_result"
    }
   ],
   "source": [
    "retDF = pd.DataFrame( {\"htSeqCountFile\": htSeqCountFiles} )\n",
    "pd.set_option('display.max_colwidth', None)\n",
    "retDF.head()"
   ]
  },
  {
   "cell_type": "code",
   "execution_count": 4,
   "id": "alive-federal",
   "metadata": {},
   "outputs": [
    {
     "name": "stdout",
     "output_type": "stream",
     "text": [
      "0    bulk.data/day.5/ctrl.1\n",
      "1    bulk.data/day.5/ctrl.2\n",
      "2    bulk.data/day.5/ctrl.3\n",
      "3    bulk.data/day.5/kras.1\n",
      "4    bulk.data/day.5/kras.2\n",
      "Name: sampleId, dtype: object\n"
     ]
    }
   ],
   "source": [
    "# trim root off of paths\n",
    "pathRoot = \"/private/groups/kimlab/kras.ipsc/data/\"\n",
    "retDF[ \"sampleId\" ] = retDF.loc[:,\"htSeqCountFile\"].str.replace( pathRoot, \"\", regex=True)\n",
    "# print()\n",
    "# print( retDF['sampleId'].head() )\n",
    "# print( \"retDF['sampleId'].shape: {}\".format(retDF[\"sampleId\"].shape) )\n",
    "\n",
    "\n",
    "# remove any counts that do not match our ref\n",
    "retDF = retDF[ retDF.loc[:,\"htSeqCountFile\"].str.contains( salmonIdx ) ]\n",
    "# print( \"retDF['sampleId'].shape: {}\".format(retDF[\"sampleId\"].shape) )\n",
    "\n",
    "\n",
    "startPattern = \"/htseqCount.out\"\n",
    "endPattern = \"htseqCount.out\"\n",
    "pattern = \"{}.*{}\".format( startPattern, endPattern )          \n",
    "retDF[ \"sampleId\" ] = retDF[ \"sampleId\" ].str.replace( pattern, \"\", regex=True )\n",
    "\n",
    "print( retDF[\"sampleId\"].head() )"
   ]
  },
  {
   "cell_type": "code",
   "execution_count": 5,
   "id": "intellectual-evidence",
   "metadata": {},
   "outputs": [
    {
     "data": {
      "text/html": [
       "<div>\n",
       "<style scoped>\n",
       "    .dataframe tbody tr th:only-of-type {\n",
       "        vertical-align: middle;\n",
       "    }\n",
       "\n",
       "    .dataframe tbody tr th {\n",
       "        vertical-align: top;\n",
       "    }\n",
       "\n",
       "    .dataframe thead th {\n",
       "        text-align: right;\n",
       "    }\n",
       "</style>\n",
       "<table border=\"1\" class=\"dataframe\">\n",
       "  <thead>\n",
       "    <tr style=\"text-align: right;\">\n",
       "      <th></th>\n",
       "      <th>htSeqCountFile</th>\n",
       "      <th>sampleId</th>\n",
       "    </tr>\n",
       "  </thead>\n",
       "  <tbody>\n",
       "    <tr>\n",
       "      <th>0</th>\n",
       "      <td>/private/groups/kimlab/kras.ipsc/data/bulk.data/day.5/ctrl.1/htseqCount.out/STAR.gencode.v35.ucsc.rmsk.salmon.v1.3.0.sidx/unmapped/unmapped/htseqCount.out</td>\n",
       "      <td>bulk.data/day.5/ctrl.1</td>\n",
       "    </tr>\n",
       "    <tr>\n",
       "      <th>1</th>\n",
       "      <td>/private/groups/kimlab/kras.ipsc/data/bulk.data/day.5/ctrl.2/htseqCount.out/STAR.gencode.v35.ucsc.rmsk.salmon.v1.3.0.sidx/unmapped/unmapped/htseqCount.out</td>\n",
       "      <td>bulk.data/day.5/ctrl.2</td>\n",
       "    </tr>\n",
       "    <tr>\n",
       "      <th>2</th>\n",
       "      <td>/private/groups/kimlab/kras.ipsc/data/bulk.data/day.5/ctrl.3/htseqCount.out/STAR.gencode.v35.ucsc.rmsk.salmon.v1.3.0.sidx/unmapped/unmapped/htseqCount.out</td>\n",
       "      <td>bulk.data/day.5/ctrl.3</td>\n",
       "    </tr>\n",
       "    <tr>\n",
       "      <th>3</th>\n",
       "      <td>/private/groups/kimlab/kras.ipsc/data/bulk.data/day.5/kras.1/htseqCount.out/STAR.gencode.v35.ucsc.rmsk.salmon.v1.3.0.sidx/unmapped/unmapped/htseqCount.out</td>\n",
       "      <td>bulk.data/day.5/kras.1</td>\n",
       "    </tr>\n",
       "    <tr>\n",
       "      <th>4</th>\n",
       "      <td>/private/groups/kimlab/kras.ipsc/data/bulk.data/day.5/kras.2/htseqCount.out/STAR.gencode.v35.ucsc.rmsk.salmon.v1.3.0.sidx/unmapped/unmapped/htseqCount.out</td>\n",
       "      <td>bulk.data/day.5/kras.2</td>\n",
       "    </tr>\n",
       "  </tbody>\n",
       "</table>\n",
       "</div>"
      ],
      "text/plain": [
       "                                                                                                                                               htSeqCountFile  \\\n",
       "0  /private/groups/kimlab/kras.ipsc/data/bulk.data/day.5/ctrl.1/htseqCount.out/STAR.gencode.v35.ucsc.rmsk.salmon.v1.3.0.sidx/unmapped/unmapped/htseqCount.out   \n",
       "1  /private/groups/kimlab/kras.ipsc/data/bulk.data/day.5/ctrl.2/htseqCount.out/STAR.gencode.v35.ucsc.rmsk.salmon.v1.3.0.sidx/unmapped/unmapped/htseqCount.out   \n",
       "2  /private/groups/kimlab/kras.ipsc/data/bulk.data/day.5/ctrl.3/htseqCount.out/STAR.gencode.v35.ucsc.rmsk.salmon.v1.3.0.sidx/unmapped/unmapped/htseqCount.out   \n",
       "3  /private/groups/kimlab/kras.ipsc/data/bulk.data/day.5/kras.1/htseqCount.out/STAR.gencode.v35.ucsc.rmsk.salmon.v1.3.0.sidx/unmapped/unmapped/htseqCount.out   \n",
       "4  /private/groups/kimlab/kras.ipsc/data/bulk.data/day.5/kras.2/htseqCount.out/STAR.gencode.v35.ucsc.rmsk.salmon.v1.3.0.sidx/unmapped/unmapped/htseqCount.out   \n",
       "\n",
       "                 sampleId  \n",
       "0  bulk.data/day.5/ctrl.1  \n",
       "1  bulk.data/day.5/ctrl.2  \n",
       "2  bulk.data/day.5/ctrl.3  \n",
       "3  bulk.data/day.5/kras.1  \n",
       "4  bulk.data/day.5/kras.2  "
      ]
     },
     "execution_count": 5,
     "metadata": {},
     "output_type": "execute_result"
    }
   ],
   "source": [
    "retDF.head()"
   ]
  },
  {
   "cell_type": "code",
   "execution_count": 6,
   "id": "level-bidder",
   "metadata": {},
   "outputs": [],
   "source": [
    "def cleanDF( df ):\n",
    "    # htseq-count has upto 5 rows at the bottom of file containg\n",
    "    # stats about unmapped reads. see Top cell for more details\n",
    "    selectRows = df['gene'].str.contains( 'ENSG', regex=True ) \n",
    "    retGenesDF = df[selectRows]\n",
    "    retStatsDF = df[ np.logical_not(selectRows)]\n",
    "\n",
    "    # htseq-count reports counts not tpm\n",
    "    selectNonZeroRows = (retGenesDF[ \"count\" ] != 0) \n",
    "    retGenesDF = retGenesDF.loc[ selectNonZeroRows, [\"gene\", \"count\"] ]\n",
    "    \n",
    "#     print(\"AEDWIP sum(selectNonZeroRows):{}\".format(sum(selectNonZeroRows)))\n",
    "#     print(\"AEDWIP retGenesDF['count'].count():{}\".format(retGenesDF['count'].count()))\n",
    "#     print(\"AEDWIP retGenesDF.shape:{}\".format(retGenesDF.shape))\n",
    "    return (retGenesDF, retStatsDF)\n",
    "\n",
    "\n",
    "def countUniqueGenes( htSeqCountFiles ):\n",
    "    # pre allocate list to store number of unique genes \n",
    "    # in each sample\n",
    "    n = len( htSeqCountFiles )\n",
    "    numUniqeGenesList = [0] * n\n",
    "    filePathList = [\"\"] * n # use for debug\n",
    "\n",
    "    for i in range(len(htSeqCountFiles)) :\n",
    "#         if i > 0:\n",
    "#             print(\"AEDWIP debug\")\n",
    "#             break\n",
    "\n",
    "        countPath = htSeqCountFiles[i]\n",
    "        print(\"countPath: {}\".format(countPath))\n",
    "        df = pd.read_csv( countPath, sep=\"\\t\", header=0, names=[\"gene\", \"count\"])\n",
    "#         print(\"\\n****** before clean\")\n",
    "#         print(\"df.shape:{}\".format(df.shape))\n",
    "        retGenesDF, retStatsDF = cleanDF( df )\n",
    "    #     print(\"\\n******** afer clean\")\n",
    "    #     print(\"df.shape:{}\".format(df.shape))\n",
    "    #     print( \"df['geneId'].count(): {}\".format(df[\"geneId\"].count()) )  \n",
    "    #     print( \"len( pd.unique(df['geneId'] )): {}\".format( len(pd.unique( df['geneId']) )) )\n",
    "\n",
    "        # future proof\n",
    "        # htseq returns gene counts. so no need to group\n",
    "        # in the future It may be possible to get to produce more interesting counts\n",
    "        groupDFs = retGenesDF.groupby([\"gene\"])\n",
    "        groupDict = groupDFs.groups\n",
    "        groupKeys = [ k for k in groupDict.keys() ]\n",
    "        #print(groupKeys[0:4])\n",
    "        numUniqueGenes = len(groupKeys)\n",
    "        print(\"len(groupKeys): {}\".format(len(groupKeys)) )\n",
    "\n",
    "        numUniqeGenesList[i] = numUniqueGenes\n",
    "        filePathList[i] = countPath\n",
    "        \n",
    "    return (numUniqeGenesList, filePathList)"
   ]
  },
  {
   "cell_type": "code",
   "execution_count": 7,
   "id": "capable-routine",
   "metadata": {},
   "outputs": [
    {
     "name": "stdout",
     "output_type": "stream",
     "text": [
      "countPath: /private/groups/kimlab/kras.ipsc/data/bulk.data/day.5/ctrl.1/htseqCount.out/STAR.gencode.v35.ucsc.rmsk.salmon.v1.3.0.sidx/unmapped/unmapped/htseqCount.out\n",
      "len(groupKeys): 9577\n",
      "countPath: /private/groups/kimlab/kras.ipsc/data/bulk.data/day.5/ctrl.2/htseqCount.out/STAR.gencode.v35.ucsc.rmsk.salmon.v1.3.0.sidx/unmapped/unmapped/htseqCount.out\n",
      "len(groupKeys): 9925\n",
      "countPath: /private/groups/kimlab/kras.ipsc/data/bulk.data/day.5/ctrl.3/htseqCount.out/STAR.gencode.v35.ucsc.rmsk.salmon.v1.3.0.sidx/unmapped/unmapped/htseqCount.out\n",
      "len(groupKeys): 9911\n",
      "countPath: /private/groups/kimlab/kras.ipsc/data/bulk.data/day.5/kras.1/htseqCount.out/STAR.gencode.v35.ucsc.rmsk.salmon.v1.3.0.sidx/unmapped/unmapped/htseqCount.out\n",
      "len(groupKeys): 9466\n",
      "countPath: /private/groups/kimlab/kras.ipsc/data/bulk.data/day.5/kras.2/htseqCount.out/STAR.gencode.v35.ucsc.rmsk.salmon.v1.3.0.sidx/unmapped/unmapped/htseqCount.out\n",
      "len(groupKeys): 8232\n",
      "countPath: /private/groups/kimlab/kras.ipsc/data/bulk.data/day.5/kras.3/htseqCount.out/STAR.gencode.v35.ucsc.rmsk.salmon.v1.3.0.sidx/unmapped/unmapped/htseqCount.out\n",
      "len(groupKeys): 8572\n",
      "countPath: /private/groups/kimlab/kras.ipsc/data/bulk.data/day.7/ctrl.1/htseqCount.out/STAR.gencode.v35.ucsc.rmsk.salmon.v1.3.0.sidx/unmapped/unmapped/htseqCount.out\n",
      "len(groupKeys): 11144\n",
      "countPath: /private/groups/kimlab/kras.ipsc/data/bulk.data/day.7/ctrl.2/htseqCount.out/STAR.gencode.v35.ucsc.rmsk.salmon.v1.3.0.sidx/unmapped/unmapped/htseqCount.out\n",
      "len(groupKeys): 11137\n",
      "countPath: /private/groups/kimlab/kras.ipsc/data/bulk.data/day.7/ctrl.3/htseqCount.out/STAR.gencode.v35.ucsc.rmsk.salmon.v1.3.0.sidx/unmapped/unmapped/htseqCount.out\n",
      "len(groupKeys): 8437\n",
      "countPath: /private/groups/kimlab/kras.ipsc/data/bulk.data/day.7/kras.1/htseqCount.out/STAR.gencode.v35.ucsc.rmsk.salmon.v1.3.0.sidx/unmapped/unmapped/htseqCount.out\n",
      "len(groupKeys): 8087\n",
      "countPath: /private/groups/kimlab/kras.ipsc/data/bulk.data/day.7/kras.2/htseqCount.out/STAR.gencode.v35.ucsc.rmsk.salmon.v1.3.0.sidx/unmapped/unmapped/htseqCount.out\n",
      "len(groupKeys): 8008\n",
      "countPath: /private/groups/kimlab/kras.ipsc/data/bulk.data/day.7/kras.3/htseqCount.out/STAR.gencode.v35.ucsc.rmsk.salmon.v1.3.0.sidx/unmapped/unmapped/htseqCount.out\n",
      "len(groupKeys): 10808\n",
      "countPath: /private/groups/kimlab/kras.ipsc/data/exo.data/gen1c.day.5.exo.input.data/ctrl.1/htseqCount.out/STAR.gencode.v35.ucsc.rmsk.salmon.v1.3.0.sidx/unmapped/unmapped/htseqCount.out\n",
      "len(groupKeys): 11584\n",
      "countPath: /private/groups/kimlab/kras.ipsc/data/exo.data/gen1c.day.5.exo.input.data/ctrl.2/htseqCount.out/STAR.gencode.v35.ucsc.rmsk.salmon.v1.3.0.sidx/unmapped/unmapped/htseqCount.out\n",
      "len(groupKeys): 9549\n",
      "countPath: /private/groups/kimlab/kras.ipsc/data/exo.data/gen1c.day.5.exo.input.data/ctrl.3/htseqCount.out/STAR.gencode.v35.ucsc.rmsk.salmon.v1.3.0.sidx/unmapped/unmapped/htseqCount.out\n",
      "len(groupKeys): 10734\n",
      "countPath: /private/groups/kimlab/kras.ipsc/data/exo.data/gen1c.day.5.exo.input.data/kras.1/htseqCount.out/STAR.gencode.v35.ucsc.rmsk.salmon.v1.3.0.sidx/unmapped/unmapped/htseqCount.out\n",
      "len(groupKeys): 13986\n",
      "countPath: /private/groups/kimlab/kras.ipsc/data/exo.data/gen1c.day.5.exo.input.data/kras.2/htseqCount.out/STAR.gencode.v35.ucsc.rmsk.salmon.v1.3.0.sidx/unmapped/unmapped/htseqCount.out\n",
      "len(groupKeys): 14092\n",
      "countPath: /private/groups/kimlab/kras.ipsc/data/exo.data/gen1c.day.5.exo.input.data/kras.3/htseqCount.out/STAR.gencode.v35.ucsc.rmsk.salmon.v1.3.0.sidx/unmapped/unmapped/htseqCount.out\n",
      "len(groupKeys): 15008\n"
     ]
    }
   ],
   "source": [
    "numUniqeGenesList, filePathList = countUniqueGenes( htSeqCountFiles )\n",
    "# add the results list as col to pd\n",
    "retDF['numUnMappedUniqGenes'] = numUniqeGenesList\n",
    "#retDF['debug'] = filePathList\n",
    "#retDF"
   ]
  },
  {
   "cell_type": "markdown",
   "id": "disturbed-regression",
   "metadata": {},
   "source": [
    "# write output"
   ]
  },
  {
   "cell_type": "code",
   "execution_count": 8,
   "id": "turkish-option",
   "metadata": {},
   "outputs": [
    {
     "name": "stdout",
     "output_type": "stream",
     "text": [
      "outputPath:\n",
      "/private/home/aedavids/unmappedReadsAnalysis/jupyterNotebooks/../data/uniqueUnMappedCounts.tsv\n",
      "\n"
     ]
    }
   ],
   "source": [
    "#outputPath = \"../data/uniqueUnMappedCounts.tsv\"\n",
    "pwd= !pwd\n",
    "outputPath = pwd[0] + \"/../data/uniqueUnMappedCounts.tsv\"\n",
    "print(\"outputPath:\\n{}\\n\".format(outputPath))\n",
    "\n",
    "# reorder output\n",
    "retDF.loc[:, [\"sampleId\", \"numUnMappedUniqGenes\", \"htSeqCountFile\"] ].to_csv(outputPath, sep=\"\\t\", index=False)"
   ]
  },
  {
   "cell_type": "code",
   "execution_count": 9,
   "id": "genetic-romantic",
   "metadata": {},
   "outputs": [
    {
     "data": {
      "text/html": [
       "<div>\n",
       "<style scoped>\n",
       "    .dataframe tbody tr th:only-of-type {\n",
       "        vertical-align: middle;\n",
       "    }\n",
       "\n",
       "    .dataframe tbody tr th {\n",
       "        vertical-align: top;\n",
       "    }\n",
       "\n",
       "    .dataframe thead th {\n",
       "        text-align: right;\n",
       "    }\n",
       "</style>\n",
       "<table border=\"1\" class=\"dataframe\">\n",
       "  <thead>\n",
       "    <tr style=\"text-align: right;\">\n",
       "      <th></th>\n",
       "      <th>htSeqCountFile</th>\n",
       "      <th>sampleId</th>\n",
       "      <th>numUnMappedUniqGenes</th>\n",
       "    </tr>\n",
       "  </thead>\n",
       "  <tbody>\n",
       "    <tr>\n",
       "      <th>0</th>\n",
       "      <td>/private/groups/kimlab/kras.ipsc/data/bulk.data/day.5/ctrl.1/htseqCount.out/STAR.gencode.v35.ucsc.rmsk.salmon.v1.3.0.sidx/unmapped/unmapped/htseqCount.out</td>\n",
       "      <td>bulk.data/day.5/ctrl.1</td>\n",
       "      <td>9577</td>\n",
       "    </tr>\n",
       "    <tr>\n",
       "      <th>1</th>\n",
       "      <td>/private/groups/kimlab/kras.ipsc/data/bulk.data/day.5/ctrl.2/htseqCount.out/STAR.gencode.v35.ucsc.rmsk.salmon.v1.3.0.sidx/unmapped/unmapped/htseqCount.out</td>\n",
       "      <td>bulk.data/day.5/ctrl.2</td>\n",
       "      <td>9925</td>\n",
       "    </tr>\n",
       "    <tr>\n",
       "      <th>2</th>\n",
       "      <td>/private/groups/kimlab/kras.ipsc/data/bulk.data/day.5/ctrl.3/htseqCount.out/STAR.gencode.v35.ucsc.rmsk.salmon.v1.3.0.sidx/unmapped/unmapped/htseqCount.out</td>\n",
       "      <td>bulk.data/day.5/ctrl.3</td>\n",
       "      <td>9911</td>\n",
       "    </tr>\n",
       "    <tr>\n",
       "      <th>3</th>\n",
       "      <td>/private/groups/kimlab/kras.ipsc/data/bulk.data/day.5/kras.1/htseqCount.out/STAR.gencode.v35.ucsc.rmsk.salmon.v1.3.0.sidx/unmapped/unmapped/htseqCount.out</td>\n",
       "      <td>bulk.data/day.5/kras.1</td>\n",
       "      <td>9466</td>\n",
       "    </tr>\n",
       "    <tr>\n",
       "      <th>4</th>\n",
       "      <td>/private/groups/kimlab/kras.ipsc/data/bulk.data/day.5/kras.2/htseqCount.out/STAR.gencode.v35.ucsc.rmsk.salmon.v1.3.0.sidx/unmapped/unmapped/htseqCount.out</td>\n",
       "      <td>bulk.data/day.5/kras.2</td>\n",
       "      <td>8232</td>\n",
       "    </tr>\n",
       "  </tbody>\n",
       "</table>\n",
       "</div>"
      ],
      "text/plain": [
       "                                                                                                                                               htSeqCountFile  \\\n",
       "0  /private/groups/kimlab/kras.ipsc/data/bulk.data/day.5/ctrl.1/htseqCount.out/STAR.gencode.v35.ucsc.rmsk.salmon.v1.3.0.sidx/unmapped/unmapped/htseqCount.out   \n",
       "1  /private/groups/kimlab/kras.ipsc/data/bulk.data/day.5/ctrl.2/htseqCount.out/STAR.gencode.v35.ucsc.rmsk.salmon.v1.3.0.sidx/unmapped/unmapped/htseqCount.out   \n",
       "2  /private/groups/kimlab/kras.ipsc/data/bulk.data/day.5/ctrl.3/htseqCount.out/STAR.gencode.v35.ucsc.rmsk.salmon.v1.3.0.sidx/unmapped/unmapped/htseqCount.out   \n",
       "3  /private/groups/kimlab/kras.ipsc/data/bulk.data/day.5/kras.1/htseqCount.out/STAR.gencode.v35.ucsc.rmsk.salmon.v1.3.0.sidx/unmapped/unmapped/htseqCount.out   \n",
       "4  /private/groups/kimlab/kras.ipsc/data/bulk.data/day.5/kras.2/htseqCount.out/STAR.gencode.v35.ucsc.rmsk.salmon.v1.3.0.sidx/unmapped/unmapped/htseqCount.out   \n",
       "\n",
       "                 sampleId  numUnMappedUniqGenes  \n",
       "0  bulk.data/day.5/ctrl.1                  9577  \n",
       "1  bulk.data/day.5/ctrl.2                  9925  \n",
       "2  bulk.data/day.5/ctrl.3                  9911  \n",
       "3  bulk.data/day.5/kras.1                  9466  \n",
       "4  bulk.data/day.5/kras.2                  8232  "
      ]
     },
     "execution_count": 9,
     "metadata": {},
     "output_type": "execute_result"
    }
   ],
   "source": [
    "retDF.head()"
   ]
  },
  {
   "cell_type": "code",
   "execution_count": 10,
   "id": "coated-future",
   "metadata": {},
   "outputs": [
    {
     "data": {
      "text/html": [
       "<div>\n",
       "<style scoped>\n",
       "    .dataframe tbody tr th:only-of-type {\n",
       "        vertical-align: middle;\n",
       "    }\n",
       "\n",
       "    .dataframe tbody tr th {\n",
       "        vertical-align: top;\n",
       "    }\n",
       "\n",
       "    .dataframe thead th {\n",
       "        text-align: right;\n",
       "    }\n",
       "</style>\n",
       "<table border=\"1\" class=\"dataframe\">\n",
       "  <thead>\n",
       "    <tr style=\"text-align: right;\">\n",
       "      <th></th>\n",
       "      <th>htSeqCountFile</th>\n",
       "      <th>sampleId</th>\n",
       "      <th>numUnMappedUniqGenes</th>\n",
       "    </tr>\n",
       "  </thead>\n",
       "  <tbody>\n",
       "    <tr>\n",
       "      <th>13</th>\n",
       "      <td>/private/groups/kimlab/kras.ipsc/data/exo.data/gen1c.day.5.exo.input.data/ctrl.2/htseqCount.out/STAR.gencode.v35.ucsc.rmsk.salmon.v1.3.0.sidx/unmapped/unmapped/htseqCount.out</td>\n",
       "      <td>exo.data/gen1c.day.5.exo.input.data/ctrl.2</td>\n",
       "      <td>9549</td>\n",
       "    </tr>\n",
       "    <tr>\n",
       "      <th>14</th>\n",
       "      <td>/private/groups/kimlab/kras.ipsc/data/exo.data/gen1c.day.5.exo.input.data/ctrl.3/htseqCount.out/STAR.gencode.v35.ucsc.rmsk.salmon.v1.3.0.sidx/unmapped/unmapped/htseqCount.out</td>\n",
       "      <td>exo.data/gen1c.day.5.exo.input.data/ctrl.3</td>\n",
       "      <td>10734</td>\n",
       "    </tr>\n",
       "    <tr>\n",
       "      <th>15</th>\n",
       "      <td>/private/groups/kimlab/kras.ipsc/data/exo.data/gen1c.day.5.exo.input.data/kras.1/htseqCount.out/STAR.gencode.v35.ucsc.rmsk.salmon.v1.3.0.sidx/unmapped/unmapped/htseqCount.out</td>\n",
       "      <td>exo.data/gen1c.day.5.exo.input.data/kras.1</td>\n",
       "      <td>13986</td>\n",
       "    </tr>\n",
       "    <tr>\n",
       "      <th>16</th>\n",
       "      <td>/private/groups/kimlab/kras.ipsc/data/exo.data/gen1c.day.5.exo.input.data/kras.2/htseqCount.out/STAR.gencode.v35.ucsc.rmsk.salmon.v1.3.0.sidx/unmapped/unmapped/htseqCount.out</td>\n",
       "      <td>exo.data/gen1c.day.5.exo.input.data/kras.2</td>\n",
       "      <td>14092</td>\n",
       "    </tr>\n",
       "    <tr>\n",
       "      <th>17</th>\n",
       "      <td>/private/groups/kimlab/kras.ipsc/data/exo.data/gen1c.day.5.exo.input.data/kras.3/htseqCount.out/STAR.gencode.v35.ucsc.rmsk.salmon.v1.3.0.sidx/unmapped/unmapped/htseqCount.out</td>\n",
       "      <td>exo.data/gen1c.day.5.exo.input.data/kras.3</td>\n",
       "      <td>15008</td>\n",
       "    </tr>\n",
       "  </tbody>\n",
       "</table>\n",
       "</div>"
      ],
      "text/plain": [
       "                                                                                                                                                                    htSeqCountFile  \\\n",
       "13  /private/groups/kimlab/kras.ipsc/data/exo.data/gen1c.day.5.exo.input.data/ctrl.2/htseqCount.out/STAR.gencode.v35.ucsc.rmsk.salmon.v1.3.0.sidx/unmapped/unmapped/htseqCount.out   \n",
       "14  /private/groups/kimlab/kras.ipsc/data/exo.data/gen1c.day.5.exo.input.data/ctrl.3/htseqCount.out/STAR.gencode.v35.ucsc.rmsk.salmon.v1.3.0.sidx/unmapped/unmapped/htseqCount.out   \n",
       "15  /private/groups/kimlab/kras.ipsc/data/exo.data/gen1c.day.5.exo.input.data/kras.1/htseqCount.out/STAR.gencode.v35.ucsc.rmsk.salmon.v1.3.0.sidx/unmapped/unmapped/htseqCount.out   \n",
       "16  /private/groups/kimlab/kras.ipsc/data/exo.data/gen1c.day.5.exo.input.data/kras.2/htseqCount.out/STAR.gencode.v35.ucsc.rmsk.salmon.v1.3.0.sidx/unmapped/unmapped/htseqCount.out   \n",
       "17  /private/groups/kimlab/kras.ipsc/data/exo.data/gen1c.day.5.exo.input.data/kras.3/htseqCount.out/STAR.gencode.v35.ucsc.rmsk.salmon.v1.3.0.sidx/unmapped/unmapped/htseqCount.out   \n",
       "\n",
       "                                      sampleId  numUnMappedUniqGenes  \n",
       "13  exo.data/gen1c.day.5.exo.input.data/ctrl.2                  9549  \n",
       "14  exo.data/gen1c.day.5.exo.input.data/ctrl.3                 10734  \n",
       "15  exo.data/gen1c.day.5.exo.input.data/kras.1                 13986  \n",
       "16  exo.data/gen1c.day.5.exo.input.data/kras.2                 14092  \n",
       "17  exo.data/gen1c.day.5.exo.input.data/kras.3                 15008  "
      ]
     },
     "execution_count": 10,
     "metadata": {},
     "output_type": "execute_result"
    }
   ],
   "source": [
    "retDF.tail()"
   ]
  },
  {
   "cell_type": "code",
   "execution_count": null,
   "id": "cognitive-dressing",
   "metadata": {},
   "outputs": [],
   "source": []
  },
  {
   "cell_type": "markdown",
   "id": "rational-sampling",
   "metadata": {},
   "source": [
    "# test"
   ]
  },
  {
   "cell_type": "code",
   "execution_count": 11,
   "id": "abandoned-department",
   "metadata": {},
   "outputs": [
    {
     "name": "stdout",
     "output_type": "stream",
     "text": [
      "(60655, 2)\n",
      "(9577, 2)\n",
      "                         gene    count\n",
      "60650            __no_feature  1541926\n",
      "60651             __ambiguous    12650\n",
      "60652         __too_low_aQual        0\n",
      "60653           __not_aligned        0\n",
      "60654  __alignment_not_unique   159190\n"
     ]
    },
    {
     "data": {
      "text/plain": [
       "9577"
      ]
     },
     "execution_count": 11,
     "metadata": {},
     "output_type": "execute_result"
    }
   ],
   "source": [
    "f = \"/private/groups/kimlab/kras.ipsc/data/bulk.data/day.5/ctrl.1/htseqCount.out/STAR.gencode.v35.ucsc.rmsk.salmon.v1.3.0.sidx/unmapped/unmapped/htseqCount.out\"\n",
    "df = pd.read_csv( f, sep=\"\\t\", header=0, names=[\"gene\", \"count\"])\n",
    "df.head()\n",
    "print(df.shape)\n",
    "retGenesDF, retStatsDF = cleanDF( df )\n",
    "print(retGenesDF.shape)\n",
    "print(retStatsDF)\n",
    "\n",
    "groupDFs = retGenesDF.groupby([\"gene\"])\n",
    "groupDict = groupDFs.groups\n",
    "groupKeys = [ k for k in groupDict.keys() ]\n",
    "#print(groupKeys[0:4])\n",
    "numUniqueGenes = len(groupKeys)\n",
    "numUniqueGenes"
   ]
  },
  {
   "cell_type": "code",
   "execution_count": null,
   "id": "related-badge",
   "metadata": {},
   "outputs": [],
   "source": []
  },
  {
   "cell_type": "code",
   "execution_count": null,
   "id": "distant-alert",
   "metadata": {},
   "outputs": [],
   "source": []
  },
  {
   "cell_type": "code",
   "execution_count": null,
   "id": "growing-journalism",
   "metadata": {},
   "outputs": [],
   "source": []
  },
  {
   "cell_type": "code",
   "execution_count": null,
   "id": "talented-stereo",
   "metadata": {},
   "outputs": [],
   "source": []
  },
  {
   "cell_type": "code",
   "execution_count": null,
   "id": "adult-earthquake",
   "metadata": {},
   "outputs": [],
   "source": []
  }
 ],
 "metadata": {
  "kernelspec": {
   "display_name": "Python 3",
   "language": "python",
   "name": "python3"
  },
  "language_info": {
   "codemirror_mode": {
    "name": "ipython",
    "version": 3
   },
   "file_extension": ".py",
   "mimetype": "text/x-python",
   "name": "python",
   "nbconvert_exporter": "python",
   "pygments_lexer": "ipython3",
   "version": "3.7.6"
  }
 },
 "nbformat": 4,
 "nbformat_minor": 5
}
